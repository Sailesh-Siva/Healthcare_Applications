{
 "cells": [
  {
   "cell_type": "code",
   "execution_count": 9,
   "id": "b9bca098-cd4f-4b87-b643-891a240e7380",
   "metadata": {},
   "outputs": [
    {
     "name": "stdout",
     "output_type": "stream",
     "text": [
      "Rule-based Extraction: [[('001', '45', 'Diabetes')], [('002', '60', 'Hypertension')], [('003', '29', 'Diabetes')], [('004', '40', 'BloodPressure')], [('005', '52', 'Depression')]]\n",
      "Pattern-based Extraction: [('001', '45', 'Diabetes'), ('002', '60', 'Hypertension'), ('003', '29', 'Diabetes'), ('004', '40', 'BloodPressure'), ('005', '52', 'Depression')]\n",
      "Machine Learning Extraction: [('001', 'Diabetes', 'Diabetes'), ('002', 'Hypertension', 'Hypertension'), ('003', 'Diabetes', 'Diabetes'), ('004', 'BloodPressure', 'BloodPressure'), ('005', 'Depression', 'Depression')]\n"
     ]
    }
   ],
   "source": [
    "import re\n",
    "from sklearn.feature_extraction.text import CountVectorizer\n",
    "from sklearn.naive_bayes import MultinomialNB\n",
    "\n",
    "# Sample clinical data\n",
    "clinical_data = [\n",
    "    \"Patient ID: 001, Age: 45, Diagnosis: Diabetes\",\n",
    "    \"Patient ID: 002, Age: 60, Diagnosis: Hypertension\",\n",
    "    \"Patient ID: 003, Age: 29, Diagnosis: Diabetes\",\n",
    "    \"Patient ID: 004, Age: 40, Diagnosis: BloodPressure\",\n",
    "    \"Patient ID: 005, Age: 52, Diagnosis: Depression\"\n",
    "]\n",
    "\n",
    "# Rule-based approach using regex\n",
    "def rule_based_extraction(data):\n",
    "    return [re.findall(r'Patient ID: (\\d+), Age: (\\d+), Diagnosis: (\\w+)', record) for record in data]\n",
    "\n",
    "# Pattern-based approach using text patterns\n",
    "def pattern_based_extraction(data):\n",
    "    patterns = [\"Patient ID\", \"Age\", \"Diagnosis\"]\n",
    "    extracted_data = []\n",
    "    for record in data:\n",
    "        record_data = []\n",
    "        for pattern in patterns:\n",
    "            match = re.search(f'{pattern}: (\\w+)', record)\n",
    "            record_data.append(match.group(1))\n",
    "        extracted_data.append(tuple(record_data))\n",
    "    return extracted_data\n",
    "\n",
    "# Machine learning approach using Naive Bayes\n",
    "def machine_learning_extraction(data):\n",
    "    vectorizer = CountVectorizer()\n",
    "    X = vectorizer.fit_transform(data)\n",
    "    y = [record.split(\", \")[2].split(\": \")[1] for record in data]\n",
    "    clf = MultinomialNB().fit(X, y)\n",
    "    predictions = clf.predict(X)\n",
    "    return list(zip([record.split(\", \")[0].split(\": \")[1] for record in data], y, predictions))\n",
    "\n",
    "# Extracting structured data using different approaches\n",
    "rule_based_result = rule_based_extraction(clinical_data)\n",
    "pattern_based_result = pattern_based_extraction(clinical_data)\n",
    "machine_learning_result = machine_learning_extraction(clinical_data)\n",
    "\n",
    "# Display results\n",
    "print(\"Rule-based Extraction:\", rule_based_result)\n",
    "print(\"Pattern-based Extraction:\", pattern_based_result)\n",
    "print(\"Machine Learning Extraction:\", machine_learning_result)"
   ]
  },
  {
   "cell_type": "code",
   "execution_count": null,
   "id": "e5843d91-1b7b-4019-9616-92599cd04ecb",
   "metadata": {},
   "outputs": [],
   "source": []
  }
 ],
 "metadata": {
  "kernelspec": {
   "display_name": "Python 3 (ipykernel)",
   "language": "python",
   "name": "python3"
  },
  "language_info": {
   "codemirror_mode": {
    "name": "ipython",
    "version": 3
   },
   "file_extension": ".py",
   "mimetype": "text/x-python",
   "name": "python",
   "nbconvert_exporter": "python",
   "pygments_lexer": "ipython3",
   "version": "3.10.16"
  }
 },
 "nbformat": 4,
 "nbformat_minor": 5
}
