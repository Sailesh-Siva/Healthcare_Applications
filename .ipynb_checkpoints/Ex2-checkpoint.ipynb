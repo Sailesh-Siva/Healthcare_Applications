{
 "cells": [
  {
   "cell_type": "code",
   "execution_count": 1,
   "id": "0aa0da2a-44f9-453e-ac4f-9caeffd677df",
   "metadata": {},
   "outputs": [
    {
     "ename": "ModuleNotFoundError",
     "evalue": "No module named 'cv2'",
     "output_type": "error",
     "traceback": [
      "\u001b[1;31m---------------------------------------------------------------------------\u001b[0m",
      "\u001b[1;31mModuleNotFoundError\u001b[0m                       Traceback (most recent call last)",
      "Cell \u001b[1;32mIn[1], line 1\u001b[0m\n\u001b[1;32m----> 1\u001b[0m \u001b[38;5;28;01mimport\u001b[39;00m \u001b[38;5;21;01mcv2\u001b[39;00m\n\u001b[0;32m      2\u001b[0m \u001b[38;5;28;01mimport\u001b[39;00m \u001b[38;5;21;01mnumpy\u001b[39;00m \u001b[38;5;28;01mas\u001b[39;00m \u001b[38;5;21;01mnp\u001b[39;00m\n\u001b[0;32m      3\u001b[0m \u001b[38;5;28;01mfrom\u001b[39;00m \u001b[38;5;21;01mskimage\u001b[39;00m\u001b[38;5;21;01m.\u001b[39;00m\u001b[38;5;21;01mfeature\u001b[39;00m \u001b[38;5;28;01mimport\u001b[39;00m canny\n",
      "\u001b[1;31mModuleNotFoundError\u001b[0m: No module named 'cv2'"
     ]
    }
   ],
   "source": [
    "import cv2\n",
    "import numpy as np\n",
    "from skimage.feature import canny\n",
    "from skimage.measure import label, regionprops\n",
    "import matplotlib.pyplot as plt\n",
    "\n",
    "# Generate synthetic biomedical images (grayscale)\n",
    "images = [np.random.rand(100, 100) for _ in range(100)]\n",
    "\n",
    "# Preprocessing (Gaussian blur)\n",
    "preprocessed_images = [cv2.GaussianBlur(img, (5, 5), 0) for img in images]\n",
    "\n",
    "# Segmentation (Canny edge detection)\n",
    "edges = [canny(img) for img in preprocessed_images]\n",
    "\n",
    "# Feature extraction and detection (region properties)\n",
    "features = [regionprops(label(edge)) for edge in edges]\n",
    "\n",
    "# Display sample image, edges, and detected features\n",
    "fig, ax = plt.subplots(1, 3, figsize=(12, 4))\n",
    "ax[0].imshow(images[0], cmap='gray')\n",
    "ax[0].set_title('Original Image')\n",
    "ax[1].imshow(edges[0], cmap='gray')\n",
    "ax[1].set_title('Edge Detection')\n",
    "ax[2].imshow(images[0], cmap='gray')\n",
    "for region in features[0]:\n",
    "    minr, minc, maxr, maxc = region.bbox\n",
    "    rect = plt.Rectangle((minc, minr), maxc - minc, maxr - minr, edgecolor='red', facecolor='none')\n",
    "    ax[2].add_patch(rect)\n",
    "ax[2].set_title('Feature Detection')\n",
    "plt.tight_layout()\n",
    "plt.show()\n"
   ]
  },
  {
   "cell_type": "code",
   "execution_count": null,
   "id": "41c21d08-f0cf-415a-92fb-703fac55c619",
   "metadata": {},
   "outputs": [],
   "source": []
  }
 ],
 "metadata": {
  "kernelspec": {
   "display_name": "Python 3 (ipykernel)",
   "language": "python",
   "name": "python3"
  },
  "language_info": {
   "codemirror_mode": {
    "name": "ipython",
    "version": 3
   },
   "file_extension": ".py",
   "mimetype": "text/x-python",
   "name": "python",
   "nbconvert_exporter": "python",
   "pygments_lexer": "ipython3",
   "version": "3.10.16"
  }
 },
 "nbformat": 4,
 "nbformat_minor": 5
}
